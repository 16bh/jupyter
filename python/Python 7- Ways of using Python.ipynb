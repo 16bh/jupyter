{
 "metadata": {
  "name": ""
 },
 "nbformat": 3,
 "nbformat_minor": 0,
 "worksheets": [
  {
   "cells": [
    {
     "cell_type": "markdown",
     "metadata": {},
     "source": [
      "### Ways of using Python\n",
      "\n",
      "* IPython notebook\n",
      "* Command line\n",
      "* Command line prompt\n",
      "* Scripts and modules"
     ]
    }
   ],
   "metadata": {}
  }
 ]
}