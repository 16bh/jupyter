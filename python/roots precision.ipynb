{
 "metadata": {
  "kernelspec": {
   "display_name": "Python 3",
   "language": "python",
   "name": "python3"
  },
  "language_info": {
   "codemirror_mode": {
    "name": "ipython",
    "version": 3
   },
   "file_extension": ".py",
   "mimetype": "text/x-python",
   "name": "python",
   "nbconvert_exporter": "python",
   "pygments_lexer": "ipython3",
   "version": "3.4.3"
  },
  "name": ""
 },
 "nbformat": 3,
 "nbformat_minor": 0,
 "worksheets": [
  {
   "cells": [
    {
     "cell_type": "markdown",
     "metadata": {},
     "source": [
      "Let's consider $$x^2 + 2px - q = 0$$  We know the roots to be $$x = -p \\pm \\sqrt{p^2 +q}$$  So let's take a look at $$x = -p + \\sqrt{p^2 + q}$$"
     ]
    },
    {
     "cell_type": "markdown",
     "metadata": {},
     "source": [
      "Let's take $p$ very large and $q$ to be small:"
     ]
    },
    {
     "cell_type": "code",
     "collapsed": false,
     "input": [
      "from math import sqrt\n",
      "p = 1e6\n",
      "q = 0.1\n",
      "\n",
      "x = -p + sqrt(p**2 + q)\n",
      "print(repr(x))\n",
      "print(repr(x**2 + 2*p*x - q))"
     ],
     "language": "python",
     "metadata": {},
     "outputs": [
      {
       "output_type": "stream",
       "stream": "stdout",
       "text": [
        "4.9942173063755035e-08\n",
        "-0.00011565387248743675\n"
       ]
      }
     ],
     "prompt_number": 8
    },
    {
     "cell_type": "markdown",
     "metadata": {},
     "source": [
      "Is this accurate?  Not quite.  Let's try rearranging:\n",
      "$$\n",
      "\\frac{q}{p + \\sqrt{p^2 + q}}\n",
      "$$"
     ]
    },
    {
     "cell_type": "code",
     "collapsed": false,
     "input": [
      "x = q / (p + sqrt(p**2 + q))\n",
      "print(repr(x))\n",
      "print(repr(x**2 + 2*p*x - q))"
     ],
     "language": "python",
     "metadata": {},
     "outputs": [
      {
       "output_type": "stream",
       "stream": "stdout",
       "text": [
        "4.999999999999876e-08\n",
        "1.3877787807814457e-17\n"
       ]
      }
     ],
     "prompt_number": 9
    },
    {
     "cell_type": "code",
     "collapsed": true,
     "input": [],
     "language": "python",
     "metadata": {},
     "outputs": [],
     "prompt_number": null
    }
   ],
   "metadata": {}
  }
 ]
}