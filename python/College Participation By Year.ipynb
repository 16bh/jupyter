{
 "metadata": {
  "kernelspec": {
   "display_name": "Python 3",
   "language": "python",
   "name": "python3"
  },
  "language_info": {
   "codemirror_mode": {
    "name": "ipython",
    "version": 3
   },
   "file_extension": ".py",
   "mimetype": "text/x-python",
   "name": "python",
   "nbconvert_exporter": "python",
   "pygments_lexer": "ipython3",
   "version": "3.5.0"
  },
  "name": ""
 },
 "nbformat": 3,
 "nbformat_minor": 0,
 "worksheets": [
  {
   "cells": [
    {
     "cell_type": "code",
     "collapsed": true,
     "input": [
      "import numpy as np\n",
      "import matplotlib.pyplot as plt\n",
      "%matplotlib inline"
     ],
     "language": "python",
     "metadata": {},
     "outputs": [],
     "prompt_number": 8
    },
    {
     "cell_type": "markdown",
     "metadata": {},
     "source": [
      "## The Problem\n",
      "\n",
      "Here we're going to look at some census data from http://www.census.gov/hhes/socdemo/education/data/cps/historical/index.html\n",
      "\n",
      "Specifically we'll look at the **percent of adults over the age of 25 with a college degree by year**\n",
      "\n",
      "*Is participation growing and at what rate?*\n",
      "\n",
      "A full report is here:\n",
      "http://www.census.gov/prod/2012pubs/p20-566.pdf"
     ]
    },
    {
     "cell_type": "heading",
     "level": 2,
     "metadata": {},
     "source": [
      "Load some data"
     ]
    },
    {
     "cell_type": "code",
     "collapsed": true,
     "input": [
      "d = np.loadtxt('year.txt')\n",
      "year = d[:,0]\n",
      "participation_all = d[:,1]"
     ],
     "language": "python",
     "metadata": {},
     "outputs": [],
     "prompt_number": 24
    },
    {
     "cell_type": "heading",
     "level": 2,
     "metadata": {},
     "source": [
      "Plot year versus participation"
     ]
    },
    {
     "cell_type": "code",
     "collapsed": false,
     "input": [
      "plt.plot(year, participation_all, 'o')\n",
      "plt.xlabel('year', fontsize=20)\n",
      "plt.ylabel('% participation', fontsize=20)"
     ],
     "language": "python",
     "metadata": {},
     "outputs": [
      {
       "metadata": {},
       "output_type": "pyout",
       "prompt_number": 29,
       "text": [
        "<matplotlib.text.Text at 0x112d35e10>"
       ]
      },
      {
       "metadata": {},
       "output_type": "display_data",
       "png": "[encoded data removed]",
       "text": [
        "<matplotlib.figure.Figure at 0x112ddcda0>"
       ]
      }
     ],
     "prompt_number": 29
    },
    {
     "cell_type": "markdown",
     "metadata": {},
     "source": [
      "Here we see the trend *looks* linear. Let's try to fit the data to make some observations\n",
      "\n",
      "To do this, let's let `t` be time and participation `b`.  If we assume the data behaves like:\n",
      "$$\n",
      "    b_i = x_0 + x_1 t_i\n",
      "$$\n",
      "for each year $i$, then we're assuming the growth is linear in time.\n",
      "\n",
      "What are $x_0$ and $x_1$ in this case?"
     ]
    },
    {
     "cell_type": "code",
     "collapsed": true,
     "input": [
      "n = len(perc)\n",
      "A = np.ones((n,2))\n",
      "A[:,1] = year\n",
      "b = participation_all"
     ],
     "language": "python",
     "metadata": {},
     "outputs": [],
     "prompt_number": 30
    },
    {
     "cell_type": "markdown",
     "metadata": {},
     "source": [
      "We have a big system:\n",
      "$$\n",
      "A x = b\n",
      "$$\n",
      "where $b$ is the participation and $x$ are the parameters that determine the shape of the linear growth.  We can solve this with \n",
      "1. pseudo-inverse (bad idea) $x = (A^T A)^{-1} A^T b$\n",
      "2. QR factorization (hold on!)"
     ]
    },
    {
     "cell_type": "code",
     "collapsed": false,
     "input": [
      "x = np.linalg.solve(A.T.dot(A), A.T.dot(b))\n",
      "print(x)"
     ],
     "language": "python",
     "metadata": {},
     "outputs": [
      {
       "output_type": "stream",
       "stream": "stdout",
       "text": [
        "[ -8.15531563e+02   4.20432737e-01]\n"
       ]
      }
     ],
     "prompt_number": 31
    },
    {
     "cell_type": "markdown",
     "metadata": {},
     "source": [
      "Now let's plot the line to see if it matches up:"
     ]
    },
    {
     "cell_type": "code",
     "collapsed": false,
     "input": [
      "plt.plot(year, participation_all, 'o')\n",
      "t = np.linspace(year.min(), year.max(), 100)\n",
      "plt.plot(t, x[0] + x[1]*t, 'r-', lw=3)\n",
      "plt.xlabel('year', fontsize=20)\n",
      "plt.ylabel('% participation', fontsize=20)"
     ],
     "language": "python",
     "metadata": {},
     "outputs": [
      {
       "metadata": {},
       "output_type": "pyout",
       "prompt_number": 34,
       "text": [
        "<matplotlib.text.Text at 0x112e39048>"
       ]
      },
      {
       "metadata": {},
       "output_type": "display_data",
       "png": "[encoded data removed]",
       "text": [
        "<matplotlib.figure.Figure at 0x11304f9b0>"
       ]
      }
     ],
     "prompt_number": 34
    },
    {
     "cell_type": "code",
     "collapsed": true,
     "input": [],
     "language": "python",
     "metadata": {},
     "outputs": [],
     "prompt_number": null
    }
   ],
   "metadata": {}
  }
 ]
}