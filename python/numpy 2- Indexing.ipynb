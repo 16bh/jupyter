{
 "cells": [
  {
   "cell_type": "markdown",
   "metadata": {},
   "source": [
    "# numpy: Indexing"
   ]
  },
  {
   "cell_type": "code",
   "execution_count": 1,
   "metadata": {},
   "outputs": [],
   "source": [
    "import numpy as np"
   ]
  },
  {
   "cell_type": "code",
   "execution_count": 4,
   "metadata": {},
   "outputs": [
    {
     "name": "stdout",
     "output_type": "stream",
     "text": [
      "[[[ 0.65452046  0.84655751  0.2465437   0.63037249  0.49431094]\n",
      "  [ 0.63158188  0.78362859  0.2951747   0.69641117  0.59895715]\n",
      "  [ 0.43613357  0.87651063  0.38305138  0.00624028  0.03163046]\n",
      "  [ 0.91546204  0.70171905  0.547058    0.72028989  0.84687566]]\n",
      "\n",
      " [[ 0.87033005  0.20760023  0.25703377  0.10136388  0.87121432]\n",
      "  [ 0.77882111  0.06744337  0.64009465  0.16001312  0.57535136]\n",
      "  [ 0.53609744  0.68586251  0.50275466  0.90559502  0.0291146 ]\n",
      "  [ 0.1564075   0.77657475  0.59519404  0.50203518  0.29774104]]\n",
      "\n",
      " [[ 0.10071063  0.02232977  0.91270321  0.87303005  0.07230418]\n",
      "  [ 0.40382633  0.70463072  0.97308786  0.43831008  0.73621499]\n",
      "  [ 0.27980156  0.28648138  0.14066115  0.04852876  0.96052156]\n",
      "  [ 0.64120322  0.02888591  0.51249984  0.70559775  0.93863945]]]\n"
     ]
    }
   ],
   "source": [
    "a = np.random.rand(3,4,5)\n",
    "a.shape\n",
    "print a"
   ]
  },
  {
   "cell_type": "markdown",
   "metadata": {},
   "source": [
    "What's the result of this?\n",
    "a[...,1] display based on col\n",
    "a[:1] dispaly based on row"
   ]
  },
  {
   "cell_type": "code",
   "execution_count": 10,
   "metadata": {},
   "outputs": [
    {
     "name": "stdout",
     "output_type": "stream",
     "text": [
      "[[ 0.84655751  0.78362859  0.87651063  0.70171905]\n",
      " [ 0.20760023  0.06744337  0.68586251  0.77657475]\n",
      " [ 0.02232977  0.70463072  0.28648138  0.02888591]]\n"
     ]
    }
   ],
   "source": [
    "print a[...,1]"
   ]
  },
  {
   "cell_type": "code",
   "execution_count": 3,
   "metadata": {},
   "outputs": [
    {
     "data": {
      "text/plain": [
       "(4, 5)"
      ]
     },
     "execution_count": 3,
     "metadata": {},
     "output_type": "execute_result"
    }
   ],
   "source": [
    "a[0].shape"
   ]
  },
  {
   "cell_type": "markdown",
   "metadata": {},
   "source": [
    "And this?"
   ]
  },
  {
   "cell_type": "code",
   "execution_count": 4,
   "metadata": {},
   "outputs": [
    {
     "name": "stdout",
     "output_type": "stream",
     "text": [
      "[[[ 0.20036881  0.65911349  0.55520155  0.51080554  0.81495794]\n",
      "  [ 0.5759689   0.64804231  0.78066361  0.85494734  0.67881983]\n",
      "  [ 0.09244949  0.13435257  0.9967763   0.01953128  0.18814341]\n",
      "  [ 0.36142812  0.72967266  0.5456059   0.31794577  0.17642136]]\n",
      "\n",
      " [[ 0.23519178  0.76973923  0.46971127  0.20148297  0.73445054]\n",
      "  [ 0.45462708  0.9766486   0.39990995  0.58228592  0.1012433 ]\n",
      "  [ 0.13646585  0.42436945  0.63316949  0.21844417  0.66665099]\n",
      "  [ 0.96002238  0.45663891  0.87922002  0.46085103  0.06232283]]\n",
      "\n",
      " [[ 0.23227256  0.49036587  0.26758193  0.83680638  0.01062927]\n",
      "  [ 0.10093378  0.98836619  0.2952474   0.80749719  0.34966229]\n",
      "  [ 0.47070504  0.94045287  0.88796667  0.86516448  0.76537614]\n",
      "  [ 0.76026903  0.15113926  0.16647953  0.68203895  0.44708797]]]\n",
      "[[ 0.55520155  0.78066361  0.9967763   0.5456059 ]\n",
      " [ 0.46971127  0.39990995  0.63316949  0.87922002]\n",
      " [ 0.26758193  0.2952474   0.88796667  0.16647953]]\n"
     ]
    },
    {
     "data": {
      "text/plain": [
       "(3, 4)"
      ]
     },
     "execution_count": 4,
     "metadata": {},
     "output_type": "execute_result"
    }
   ],
   "source": [
    "print a\n",
    "print a[...,2]\n",
    "a[...,2].shape"
   ]
  },
  {
   "cell_type": "code",
   "execution_count": 5,
   "metadata": {},
   "outputs": [
    {
     "data": {
      "text/plain": [
       "0.025588609438720655"
      ]
     },
     "execution_count": 5,
     "metadata": {},
     "output_type": "execute_result"
    }
   ],
   "source": [
    "a[1,0,3]"
   ]
  },
  {
   "cell_type": "markdown",
   "metadata": {},
   "source": [
    "Like all other things in Python, numpy indexes from 0."
   ]
  },
  {
   "cell_type": "code",
   "execution_count": 6,
   "metadata": {},
   "outputs": [
    {
     "ename": "IndexError",
     "evalue": "index 3 is out of bounds for axis 0 with size 3",
     "output_type": "error",
     "traceback": [
      "\u001b[0;31m---------------------------------------------------------------------------\u001b[0m\n\u001b[0;31mIndexError\u001b[0m                                Traceback (most recent call last)",
      "\u001b[0;32m<ipython-input-6-4c22dfd164ed>\u001b[0m in \u001b[0;36m<module>\u001b[0;34m()\u001b[0m\n\u001b[1;32m      1\u001b[0m \u001b[0;31m#keep\u001b[0m\u001b[0;34m\u001b[0m\u001b[0;34m\u001b[0m\u001b[0m\n\u001b[0;32m----> 2\u001b[0;31m \u001b[0ma\u001b[0m\u001b[0;34m[\u001b[0m\u001b[0;36m3\u001b[0m\u001b[0;34m,\u001b[0m\u001b[0;36m2\u001b[0m\u001b[0;34m,\u001b[0m\u001b[0;36m2\u001b[0m\u001b[0;34m]\u001b[0m\u001b[0;34m.\u001b[0m\u001b[0mshape\u001b[0m\u001b[0;34m\u001b[0m\u001b[0m\n\u001b[0m",
      "\u001b[0;31mIndexError\u001b[0m: index 3 is out of bounds for axis 0 with size 3"
     ]
    }
   ],
   "source": [
    "a[3,2,2].shape"
   ]
  },
  {
   "cell_type": "code",
   "execution_count": 6,
   "metadata": {},
   "outputs": [
    {
     "data": {
      "text/plain": [
       "(3, 5)"
      ]
     },
     "execution_count": 6,
     "metadata": {},
     "output_type": "execute_result"
    }
   ],
   "source": [
    "a[:,2].shape"
   ]
  },
  {
   "cell_type": "markdown",
   "metadata": {},
   "source": [
    "---\n",
    "\n",
    "Indexing into numpy arrays usually results in a so-called *view*."
   ]
  },
  {
   "cell_type": "code",
   "execution_count": 8,
   "metadata": {},
   "outputs": [
    {
     "data": {
      "text/plain": [
       "array([[ 0.,  0.,  0.,  0.],\n",
       "       [ 0.,  0.,  0.,  0.],\n",
       "       [ 0.,  0.,  0.,  0.],\n",
       "       [ 0.,  0.,  0.,  0.]])"
      ]
     },
     "execution_count": 8,
     "metadata": {},
     "output_type": "execute_result"
    }
   ],
   "source": [
    "a = np.zeros((4,4))\n",
    "a"
   ]
  },
  {
   "cell_type": "markdown",
   "metadata": {},
   "source": [
    "Let's call `b` the top-left $2\\times 2$ submatrix."
   ]
  },
  {
   "cell_type": "code",
   "execution_count": 9,
   "metadata": {},
   "outputs": [
    {
     "data": {
      "text/plain": [
       "array([[ 0.,  0.],\n",
       "       [ 0.,  0.]])"
      ]
     },
     "execution_count": 9,
     "metadata": {},
     "output_type": "execute_result"
    }
   ],
   "source": [
    "b = a[:2,:2]\n",
    "b"
   ]
  },
  {
   "cell_type": "markdown",
   "metadata": {},
   "source": [
    "What happens if we change `b`?"
   ]
  },
  {
   "cell_type": "code",
   "execution_count": 10,
   "metadata": {},
   "outputs": [
    {
     "data": {
      "text/plain": [
       "array([[ 0.,  0.],\n",
       "       [ 5.,  0.]])"
      ]
     },
     "execution_count": 10,
     "metadata": {},
     "output_type": "execute_result"
    }
   ],
   "source": [
    "b[1,0] = 5\n",
    "b"
   ]
  },
  {
   "cell_type": "code",
   "execution_count": 12,
   "metadata": {},
   "outputs": [
    {
     "name": "stdout",
     "output_type": "stream",
     "text": [
      "[[ 0.  0.  0.  0.]\n",
      " [ 5.  0.  0.  0.]\n",
      " [ 0.  0.  0.  0.]\n",
      " [ 0.  0.  0.  0.]]\n"
     ]
    }
   ],
   "source": [
    "print(a)"
   ]
  },
  {
   "cell_type": "markdown",
   "metadata": {},
   "source": [
    "To decouple `b` from `a`, use `.copy()`."
   ]
  },
  {
   "cell_type": "code",
   "execution_count": 13,
   "metadata": {},
   "outputs": [
    {
     "name": "stdout",
     "output_type": "stream",
     "text": [
      "[[ 0.  0.  0.  0.]\n",
      " [ 5.  0.  0.  0.]\n",
      " [ 0.  0.  0.  0.]\n",
      " [ 0.  0.  0.  0.]]\n"
     ]
    }
   ],
   "source": [
    "b = b.copy()\n",
    "b[1,1] = 7\n",
    "print(a) "
   ]
  },
  {
   "cell_type": "markdown",
   "metadata": {},
   "source": [
    "----\n",
    "\n",
    "You can also index with other arrays:"
   ]
  },
  {
   "cell_type": "code",
   "execution_count": 14,
   "metadata": {},
   "outputs": [
    {
     "data": {
      "text/plain": [
       "array([[ 0.94747406,  0.89080192,  0.46799144,  0.54340544],\n",
       "       [ 0.54409333,  0.27586608,  0.60682897,  0.61962813],\n",
       "       [ 0.06203009,  0.7958913 ,  0.93468584,  0.88864481],\n",
       "       [ 0.98627827,  0.73442815,  0.90304704,  0.18186312]])"
      ]
     },
     "execution_count": 14,
     "metadata": {},
     "output_type": "execute_result"
    }
   ],
   "source": [
    "a = np.random.rand(4,4)\n",
    "a"
   ]
  },
  {
   "cell_type": "code",
   "execution_count": 15,
   "metadata": {},
   "outputs": [
    {
     "data": {
      "text/plain": [
       "array([[ 0.94747406,  0.89080192,  0.46799144,  0.54340544],\n",
       "       [ 0.06203009,  0.7958913 ,  0.93468584,  0.88864481]])"
      ]
     },
     "execution_count": 15,
     "metadata": {},
     "output_type": "execute_result"
    }
   ],
   "source": [
    "i = np.array([0,2])\n",
    "a[i]"
   ]
  },
  {
   "cell_type": "markdown",
   "metadata": {},
   "source": [
    "---\n",
    "\n",
    "And with conditionals:"
   ]
  },
  {
   "cell_type": "code",
   "execution_count": 16,
   "metadata": {},
   "outputs": [
    {
     "data": {
      "text/plain": [
       "array([[ True,  True, False,  True],\n",
       "       [ True, False,  True,  True],\n",
       "       [False,  True,  True,  True],\n",
       "       [ True,  True,  True, False]], dtype=bool)"
      ]
     },
     "execution_count": 16,
     "metadata": {},
     "output_type": "execute_result"
    }
   ],
   "source": [
    "a>0.5"
   ]
  },
  {
   "cell_type": "code",
   "execution_count": 17,
   "metadata": {},
   "outputs": [
    {
     "data": {
      "text/plain": [
       "array([ 0.94747406,  0.89080192,  0.54340544,  0.54409333,  0.60682897,\n",
       "        0.61962813,  0.7958913 ,  0.93468584,  0.88864481,  0.98627827,\n",
       "        0.73442815,  0.90304704])"
      ]
     },
     "execution_count": 17,
     "metadata": {},
     "output_type": "execute_result"
    }
   ],
   "source": [
    "a[a>0.5]"
   ]
  }
 ],
 "metadata": {
  "kernelspec": {
   "display_name": "Python 2",
   "language": "python",
   "name": "python2"
  },
  "language_info": {
   "codemirror_mode": {
    "name": "ipython",
    "version": 2
   },
   "file_extension": ".py",
   "mimetype": "text/x-python",
   "name": "python",
   "nbconvert_exporter": "python",
   "pygments_lexer": "ipython2",
   "version": "2.7.10"
  }
 },
 "nbformat": 4,
 "nbformat_minor": 1
}
