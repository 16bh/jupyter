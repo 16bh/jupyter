{
 "cells": [
  {
   "cell_type": "markdown",
   "metadata": {},
   "source": [
    "# Data Fitting with Least Squares"
   ]
  },
  {
   "cell_type": "code",
   "execution_count": 1,
   "metadata": {},
   "outputs": [],
   "source": [
    "#keep\n",
    "import numpy as np\n",
    "import numpy.linalg as npla\n",
    "import scipy.linalg as spla\n",
    "import matplotlib.pyplot as pt\n",
    "%matplotlib inline"
   ]
  },
  {
   "cell_type": "code",
   "execution_count": 2,
   "metadata": {},
   "outputs": [
    {
     "data": {
      "text/plain": [
       "[<matplotlib.lines.Line2D at 0x10a1e4090>]"
      ]
     },
     "execution_count": 2,
     "metadata": {},
     "output_type": "execute_result"
    },
    {
     "data": {
      "image/png": "[encoded data removed]",
      "text/plain": [
       "<matplotlib.figure.Figure at 0x108f6ce10>"
      ]
     },
     "metadata": {},
     "output_type": "display_data"
    }
   ],
   "source": [
    "#keep\n",
    "a = 4\n",
    "b = 2\n",
    "\n",
    "def f(x):\n",
    "    return a + b*x\n",
    "\n",
    "plot_grid = np.linspace(-3, 3, 100)\n",
    "\n",
    "pt.plot(plot_grid, f(plot_grid))"
   ]
  },
  {
   "cell_type": "code",
   "execution_count": 3,
   "metadata": {},
   "outputs": [
    {
     "data": {
      "text/plain": [
       "[<matplotlib.lines.Line2D at 0x10a180790>]"
      ]
     },
     "execution_count": 3,
     "metadata": {},
     "output_type": "execute_result"
    },
    {
     "data": {
      "image/png": "[encoded data removed]",
      "text/plain": [
       "<matplotlib.figure.Figure at 0x10a2166d0>"
      ]
     },
     "metadata": {},
     "output_type": "display_data"
    }
   ],
   "source": [
    "#keep\n",
    "npts = 5\n",
    "\n",
    "np.random.seed(22)\n",
    "points = np.linspace(-2, 2, npts) + np.random.randn(npts)\n",
    "values = f(points) + 0.3*np.random.randn(npts)*f(points)\n",
    "\n",
    "pt.plot(plot_grid, f(plot_grid))\n",
    "pt.plot(points, values, \"o\")"
   ]
  },
  {
   "cell_type": "markdown",
   "metadata": {},
   "source": [
    "What's the system of equations for $a$ and $b$?"
   ]
  },
  {
   "cell_type": "markdown",
   "metadata": {},
   "source": [
    "---------------\n",
    "Now build the system matrix $A$:"
   ]
  },
  {
   "cell_type": "code",
   "execution_count": 4,
   "metadata": {},
   "outputs": [
    {
     "data": {
      "text/plain": [
       "array([[ 1.        , -2.09194992],\n",
       "       [ 1.        , -2.46335065],\n",
       "       [ 1.        ,  1.08179168],\n",
       "       [ 1.        ,  0.76067483],\n",
       "       [ 1.        ,  1.50887086]])"
      ]
     },
     "execution_count": 4,
     "metadata": {},
     "output_type": "execute_result"
    }
   ],
   "source": [
    "A = np.array([\n",
    "    1+0*points,\n",
    "    points,\n",
    "    ]).T\n",
    "A"
   ]
  },
  {
   "cell_type": "markdown",
   "metadata": {},
   "source": [
    "What's the right-hand side vector?"
   ]
  },
  {
   "cell_type": "markdown",
   "metadata": {},
   "source": [
    "-------------\n",
    "Now solve the least-squares system:"
   ]
  },
  {
   "cell_type": "code",
   "execution_count": 5,
   "metadata": {},
   "outputs": [],
   "source": [
    "Q, R = npla.qr(A, \"complete\")"
   ]
  },
  {
   "cell_type": "code",
   "execution_count": 6,
   "metadata": {},
   "outputs": [
    {
     "name": "stdout",
     "output_type": "stream",
     "text": [
      "(5, 2)\n",
      "(5, 5)\n",
      "(5, 2)\n"
     ]
    }
   ],
   "source": [
    "#keep\n",
    "print(A.shape)\n",
    "print(Q.shape)\n",
    "print(R.shape)\n",
    "\n",
    "m, n = A.shape"
   ]
  },
  {
   "cell_type": "markdown",
   "metadata": {},
   "source": [
    "Determine $x$. Use `spla.solve_triangular(A, b, lower=False)`."
   ]
  },
  {
   "cell_type": "code",
   "execution_count": 7,
   "metadata": {},
   "outputs": [],
   "source": [
    "x = spla.solve_triangular(R[:n], Q.T.dot(values)[:n], lower=False)"
   ]
  },
  {
   "cell_type": "markdown",
   "metadata": {},
   "source": [
    "Recover the computed $a$, $b$:"
   ]
  },
  {
   "cell_type": "code",
   "execution_count": 8,
   "metadata": {},
   "outputs": [],
   "source": [
    "#keep\n",
    "a_c, b_c = x"
   ]
  },
  {
   "cell_type": "code",
   "execution_count": 9,
   "metadata": {},
   "outputs": [
    {
     "data": {
      "text/plain": [
       "<matplotlib.legend.Legend at 0x10a461f50>"
      ]
     },
     "execution_count": 9,
     "metadata": {},
     "output_type": "execute_result"
    },
    {
     "data": {
      "image/png": "[encoded data removed]",
      "text/plain": [
       "<matplotlib.figure.Figure at 0x10a2910d0>"
      ]
     },
     "metadata": {},
     "output_type": "display_data"
    }
   ],
   "source": [
    "#keep\n",
    "def f_c(x):\n",
    "    return a_c + b_c * x\n",
    "\n",
    "pt.plot(plot_grid, f(plot_grid), label=\"true\", color=\"green\")\n",
    "pt.plot(points, values, \"o\", label=\"data\", color=\"blue\")\n",
    "pt.plot(plot_grid, f_c(plot_grid), \"--\", label=\"found\",color=\"purple\",)\n",
    "\n",
    "if 0:\n",
    "    # show residual components\n",
    "    pt.vlines(points,\n",
    "                np.minimum(f_c(points), values),\n",
    "                np.maximum(f_c(points), values),\n",
    "                color=\"red\", lw=2)\n",
    "\n",
    "pt.legend(loc=\"best\")"
   ]
  },
  {
   "cell_type": "markdown",
   "metadata": {},
   "source": [
    "* If we enable 'show residual components above', what will appear?\n",
    "* Is it possible for the residual to involve the 'true data'?\n",
    "\n",
    "------\n",
    "\n",
    "* What should happen if we change the number of data points?\n",
    "* What happens if there are lots of outliers?\n",
    "* What should happen if we don't add noise?\n",
    "* What about a bigger model?\n",
    "* What about different functions in the model?"
   ]
  }
 ],
 "metadata": {
  "kernelspec": {
   "display_name": "Python 2",
   "language": "python",
   "name": "python2"
  },
  "language_info": {
   "codemirror_mode": {
    "name": "ipython",
    "version": 2
   },
   "file_extension": ".py",
   "mimetype": "text/x-python",
   "name": "python",
   "nbconvert_exporter": "python",
   "pygments_lexer": "ipython2",
   "version": "2.7.10"
  }
 },
 "nbformat": 4,
 "nbformat_minor": 1
}
