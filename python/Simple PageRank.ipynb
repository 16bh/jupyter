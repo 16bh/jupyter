{
 "cells": [
  {
   "cell_type": "code",
   "execution_count": 1,
   "metadata": {},
   "outputs": [],
   "source": [
    "import numpy as np"
   ]
  },
  {
   "cell_type": "code",
   "execution_count": 2,
   "metadata": {},
   "outputs": [],
   "source": [
    "A = np.zeros((4,4))"
   ]
  },
  {
   "cell_type": "code",
   "execution_count": 3,
   "metadata": {},
   "outputs": [
    {
     "data": {
      "text/plain": [
       "array([[ 0.,  0.,  0.,  0.],\n",
       "       [ 0.,  0.,  0.,  0.],\n",
       "       [ 0.,  0.,  0.,  0.],\n",
       "       [ 0.,  0.,  0.,  0.]])"
      ]
     },
     "execution_count": 3,
     "metadata": {},
     "output_type": "execute_result"
    }
   ],
   "source": [
    "A"
   ]
  },
  {
   "cell_type": "code",
   "execution_count": 4,
   "metadata": {},
   "outputs": [],
   "source": [
    "A[0,2]=1.0\n",
    "A[0,3]=0.5\n",
    "A[1,0]=1.0/3.0\n",
    "A[2,0]=1.0/3.0\n",
    "A[2,1]=0.5\n",
    "A[2,3]=0.5\n",
    "A[3,0]=1.0/3.0\n",
    "A[3,1]=0.5"
   ]
  },
  {
   "cell_type": "code",
   "execution_count": 5,
   "metadata": {},
   "outputs": [
    {
     "name": "stdout",
     "output_type": "stream",
     "text": [
      "[[ 0.          0.          1.          0.5       ]\n",
      " [ 0.33333333  0.          0.          0.        ]\n",
      " [ 0.33333333  0.5         0.          0.5       ]\n",
      " [ 0.33333333  0.5         0.          0.        ]]\n"
     ]
    }
   ],
   "source": [
    "print(A)"
   ]
  },
  {
   "cell_type": "code",
   "execution_count": 6,
   "metadata": {},
   "outputs": [
    {
     "name": "stdout",
     "output_type": "stream",
     "text": [
      "(1+0j)\n",
      "[ 0.72101012+0.j  0.24033671+0.j  0.54075759+0.j  0.36050506+0.j]\n"
     ]
    }
   ],
   "source": [
    "V, W = np.linalg.eig(A)\n",
    "print(V[0])\n",
    "print(W[:,0])"
   ]
  },
  {
   "cell_type": "code",
   "execution_count": 7,
   "metadata": {},
   "outputs": [],
   "source": [
    "B = 0.85 * A + 0.15 * (1.0/4.0) * np.ones((4,4))"
   ]
  },
  {
   "cell_type": "code",
   "execution_count": 8,
   "metadata": {},
   "outputs": [
    {
     "name": "stdout",
     "output_type": "stream",
     "text": [
      "[[ 0.0375      0.0375      0.8875      0.4625    ]\n",
      " [ 0.32083333  0.0375      0.0375      0.0375    ]\n",
      " [ 0.32083333  0.4625      0.0375      0.4625    ]\n",
      " [ 0.32083333  0.4625      0.0375      0.0375    ]]\n"
     ]
    }
   ],
   "source": [
    "print(B)"
   ]
  },
  {
   "cell_type": "code",
   "execution_count": 9,
   "metadata": {},
   "outputs": [
    {
     "name": "stdout",
     "output_type": "stream",
     "text": [
      "(1+0j)\n",
      "[-0.69648307+0.j -0.26828096+0.j -0.54477802+0.j -0.38230037+0.j]\n"
     ]
    }
   ],
   "source": [
    "V, W = np.linalg.eig(B)\n",
    "print(V[0])\n",
    "print(W[:,0])"
   ]
  },
  {
   "cell_type": "code",
   "execution_count": null,
   "metadata": {},
   "outputs": [],
   "source": []
  },
  {
   "cell_type": "code",
   "execution_count": null,
   "metadata": {},
   "outputs": [],
   "source": []
  }
 ],
 "metadata": {
  "kernelspec": {
   "display_name": "Python 2",
   "language": "python",
   "name": "python2"
  },
  "language_info": {
   "codemirror_mode": {
    "name": "ipython",
    "version": 2
   },
   "file_extension": ".py",
   "mimetype": "text/x-python",
   "name": "python",
   "nbconvert_exporter": "python",
   "pygments_lexer": "ipython2",
   "version": "2.7.10"
  }
 },
 "nbformat": 4,
 "nbformat_minor": 1
}
